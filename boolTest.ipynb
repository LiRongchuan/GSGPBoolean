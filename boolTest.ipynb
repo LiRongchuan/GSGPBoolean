{
 "cells": [
  {
   "cell_type": "markdown",
   "id": "60f0f6a6",
   "metadata": {},
   "source": [
    "# Run GSGP on Boolean Functions"
   ]
  },
  {
   "cell_type": "code",
   "execution_count": 164,
   "id": "1c6b10ad",
   "metadata": {},
   "outputs": [],
   "source": [
    "from itertools import product\n",
    "from operators import *"
   ]
  },
  {
   "cell_type": "markdown",
   "id": "948670f0",
   "metadata": {},
   "source": [
    "## Hyper-Parameters\n",
    "\n",
    "`l_B`: Size of bases\n",
    "\n",
    "`l_S`: Size of training set"
   ]
  },
  {
   "cell_type": "code",
   "execution_count": 165,
   "id": "ccc10696",
   "metadata": {},
   "outputs": [],
   "source": [
    "l_B = 3\n",
    "l_S = 5"
   ]
  },
  {
   "cell_type": "markdown",
   "id": "bf48693d",
   "metadata": {},
   "source": [
    "## Define Program\n",
    "\n",
    "`TRUTH_VALUES` is all combinations of variables\n",
    "\n",
    "`S` is the training set. Algorithm will minimize the difference with `S` \n",
    "\n",
    "`F(x)` is the target program "
   ]
  },
  {
   "cell_type": "code",
   "execution_count": 166,
   "id": "b7eaf54d",
   "metadata": {},
   "outputs": [],
   "source": [
    "TRUTH_VALUES = [list(p) for p in product([0, 1], repeat=4)]\n",
    "\n",
    "S = random.sample(TRUTH_VALUES, l_S)\n",
    "\n",
    "def F(x):\n",
    "    return bool(x[2] and x[3])"
   ]
  },
  {
   "cell_type": "markdown",
   "id": "6a629a52",
   "metadata": {},
   "source": [
    "## Define Bases\n",
    "\n",
    "`B` is which variable we can use to generate program\n",
    "\n",
    "`P(x)` is the initial program"
   ]
  },
  {
   "cell_type": "code",
   "execution_count": 167,
   "id": "36f8ac50",
   "metadata": {},
   "outputs": [
    {
     "name": "stdout",
     "output_type": "stream",
     "text": [
      "[1, 2, 3]\n"
     ]
    }
   ],
   "source": [
    "B = random.sample(range(0, 4), l_B)\n",
    "print(B)\n",
    "\n",
    "def P(x):\n",
    "    return True"
   ]
  },
  {
   "cell_type": "markdown",
   "id": "05724d56",
   "metadata": {},
   "source": [
    "## (1+1) FBM-GSGPs (iterations with static training set)\n",
    "\n",
    "`FBM` operator ensures the error decrease by 0 or 1 each iteration\n",
    "\n",
    "```text\n",
    "FBM\n",
    "    for var in B\n",
    "        50%: M &= var\n",
    "        50%: M &= ~var\n",
    "    M represents one real-value combination of variables in B\n",
    "    50: P |= M\n",
    "    50: P &= ~M\n",
    "```\n",
    "\n",
    "For all `x` in training set, if `M(x)` agrees with `F(x)` on more cases, `P(x) | M(x)` will be retained; otherwise if `M(x)` disagrees with `F(x)` on more cases, then `P(x) & ~M(x)` will be retained. This operator fixes 1 or 0 case each iteration."
   ]
  },
  {
   "cell_type": "code",
   "execution_count": 168,
   "id": "c307a2b9",
   "metadata": {},
   "outputs": [
    {
     "name": "stdout",
     "output_type": "stream",
     "text": [
      "0\n",
      "f( [0, 0, 0, 1] ): False\n",
      "P( [0, 0, 0, 1] ): True\n",
      "\n",
      "f( [0, 0, 1, 0] ): False\n",
      "P( [0, 0, 1, 0] ): True\n",
      "\n",
      "f( [0, 1, 0, 0] ): False\n",
      "P( [0, 1, 0, 0] ): True\n",
      "\n",
      "f( [1, 0, 0, 1] ): False\n",
      "P( [1, 0, 0, 1] ): True\n",
      "\n",
      "f( [1, 0, 1, 0] ): False\n",
      "P( [1, 0, 1, 0] ): True\n",
      "\n",
      "f( [1, 1, 0, 0] ): False\n",
      "P( [1, 1, 0, 0] ): True\n",
      "\n",
      "Accuracy: 10 / 16\n"
     ]
    }
   ],
   "source": [
    "error = len(TRUTH_VALUES)\n",
    "for _ in range(1000):\n",
    "    P_ = fbm(P, B)\n",
    "    err = sum(1 for x in S if F(x) != P_(x))\n",
    "    if err < error:\n",
    "        error = err\n",
    "        P = P_\n",
    "print(error)\n",
    "\n",
    "score = len(TRUTH_VALUES)\n",
    "for x in TRUTH_VALUES:\n",
    "    p = P(x)\n",
    "    f = F(x)\n",
    "    if p != f:\n",
    "        print(\"f(\", x, \"):\", f)\n",
    "        print(\"P(\", x, \"):\", p)\n",
    "        print()\n",
    "        score -= 1\n",
    "print('Accuracy:', score, '/', len(TRUTH_VALUES))"
   ]
  },
  {
   "cell_type": "markdown",
   "id": "67ad2ab6",
   "metadata": {},
   "source": [
    "## (1+1) FBM-GSGP (iterations with dynamic training set)\n",
    "\n",
    "Training set is randomly selected from all truth values each iteration"
   ]
  },
  {
   "cell_type": "code",
   "execution_count": 169,
   "id": "aa9a341a",
   "metadata": {},
   "outputs": [],
   "source": [
    "B = [1, 2]\n",
    "def P(x):\n",
    "    return bool(1)"
   ]
  },
  {
   "cell_type": "code",
   "execution_count": 170,
   "id": "b4bdfeaa",
   "metadata": {},
   "outputs": [
    {
     "name": "stdout",
     "output_type": "stream",
     "text": [
      "0\n",
      "f( [0, 0, 1, 0] ): False\n",
      "P( [0, 0, 1, 0] ): True\n",
      "\n",
      "f( [0, 1, 1, 0] ): False\n",
      "P( [0, 1, 1, 0] ): True\n",
      "\n",
      "f( [1, 0, 1, 0] ): False\n",
      "P( [1, 0, 1, 0] ): True\n",
      "\n",
      "f( [1, 1, 1, 0] ): False\n",
      "P( [1, 1, 1, 0] ): True\n",
      "\n",
      "Accuracy: 12 / 16\n"
     ]
    }
   ],
   "source": [
    "error = len(TRUTH_VALUES)\n",
    "for _ in range(1000):\n",
    "    P_ = fbm(P, B)\n",
    "    S = random.sample(TRUTH_VALUES, l_S)\n",
    "    err = sum(1 for s in S if F(s) != P_(s))\n",
    "    if err < error:\n",
    "        error = err\n",
    "        P = P_\n",
    "print(error)\n",
    "\n",
    "score = len(TRUTH_VALUES)\n",
    "for x in TRUTH_VALUES:\n",
    "    p = P(x)\n",
    "    f = F(x)\n",
    "    if p != f:\n",
    "        print(\"f(\", x, \"):\", f)\n",
    "        print(\"P(\", x, \"):\", p)\n",
    "        print()\n",
    "        score -= 1\n",
    "print('Accuracy:', score, '/', len(TRUTH_VALUES))"
   ]
  }
 ],
 "metadata": {
  "kernelspec": {
   "display_name": "base",
   "language": "python",
   "name": "python3"
  },
  "language_info": {
   "codemirror_mode": {
    "name": "ipython",
    "version": 3
   },
   "file_extension": ".py",
   "mimetype": "text/x-python",
   "name": "python",
   "nbconvert_exporter": "python",
   "pygments_lexer": "ipython3",
   "version": "3.12.7"
  }
 },
 "nbformat": 4,
 "nbformat_minor": 5
}
